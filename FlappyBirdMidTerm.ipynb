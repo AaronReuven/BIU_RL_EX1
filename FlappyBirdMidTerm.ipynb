{
  "nbformat": 4,
  "nbformat_minor": 0,
  "metadata": {
    "colab": {
      "provenance": [],
      "collapsed_sections": [
        "9PsfB8bB6EVL",
        "-4Z_jvJErVsQ"
      ],
      "include_colab_link": true
    },
    "kernelspec": {
      "name": "python3",
      "display_name": "Python 3"
    },
    "language_info": {
      "name": "python"
    }
  },
  "cells": [
    {
      "cell_type": "markdown",
      "metadata": {
        "id": "view-in-github",
        "colab_type": "text"
      },
      "source": [
        "<a href=\"https://colab.research.google.com/github/AaronReuven/BIU_RL_EX1/blob/main/FlappyBirdMidTerm.ipynb\" target=\"_parent\"><img src=\"https://colab.research.google.com/assets/colab-badge.svg\" alt=\"Open In Colab\"/></a>"
      ]
    },
    {
      "cell_type": "markdown",
      "source": [
        "## Installs"
      ],
      "metadata": {
        "id": "LzEyrrIkyiik"
      }
    },
    {
      "cell_type": "markdown",
      "source": [
        "## Imports"
      ],
      "metadata": {
        "id": "s5hzkeZvyYk1"
      }
    },
    {
      "cell_type": "code",
      "source": [
        "!git clone https://github.com/ntasfi/PyGame-Learning-Environment\n",
        "!pip install gym_ple\n",
        "!pip install -e ./PyGame-Learning-Environment\n",
        "!pip install pyvirtualdisplay\n",
        "!sudo apt-get install -y xvfb ffmpeg freeglut3-dev"
      ],
      "metadata": {
        "id": "7vj5IGwnxwZ1",
        "colab": {
          "base_uri": "https://localhost:8080/"
        },
        "outputId": "e2c52cd7-d6f9-437a-cec0-456fb4370558"
      },
      "execution_count": 1,
      "outputs": [
        {
          "output_type": "stream",
          "name": "stdout",
          "text": [
            "Cloning into 'PyGame-Learning-Environment'...\n",
            "remote: Enumerating objects: 1118, done.\u001b[K\n",
            "remote: Total 1118 (delta 0), reused 0 (delta 0), pack-reused 1118 (from 1)\u001b[K\n",
            "Receiving objects: 100% (1118/1118), 8.06 MiB | 14.00 MiB/s, done.\n",
            "Resolving deltas: 100% (592/592), done.\n",
            "Collecting gym_ple\n",
            "  Downloading gym_ple-0.3.tar.gz (4.0 kB)\n",
            "  Preparing metadata (setup.py) ... \u001b[?25l\u001b[?25hdone\n",
            "Building wheels for collected packages: gym_ple\n",
            "  Building wheel for gym_ple (setup.py) ... \u001b[?25l\u001b[?25hdone\n",
            "  Created wheel for gym_ple: filename=gym_ple-0.3-py3-none-any.whl size=4458 sha256=a9c088cf33541a38fb2c15045c5ce03d4246b7eccab34f5115fc0d3d4dee67a9\n",
            "  Stored in directory: /root/.cache/pip/wheels/71/96/17/a59c56c130c89ad5816ef952c93cad65803807f1a3891ba994\n",
            "Successfully built gym_ple\n",
            "Installing collected packages: gym_ple\n",
            "Successfully installed gym_ple-0.3\n",
            "Obtaining file:///content/PyGame-Learning-Environment\n",
            "  Preparing metadata (setup.py) ... \u001b[?25l\u001b[?25hdone\n",
            "Requirement already satisfied: numpy in /usr/local/lib/python3.10/dist-packages (from ple==0.0.1) (1.26.4)\n",
            "Requirement already satisfied: Pillow in /usr/local/lib/python3.10/dist-packages (from ple==0.0.1) (11.0.0)\n",
            "Installing collected packages: ple\n",
            "  Running setup.py develop for ple\n",
            "Successfully installed ple-0.0.1\n",
            "Collecting pyvirtualdisplay\n",
            "  Downloading PyVirtualDisplay-3.0-py3-none-any.whl.metadata (943 bytes)\n",
            "Downloading PyVirtualDisplay-3.0-py3-none-any.whl (15 kB)\n",
            "Installing collected packages: pyvirtualdisplay\n",
            "Successfully installed pyvirtualdisplay-3.0\n",
            "Reading package lists... Done\n",
            "Building dependency tree... Done\n",
            "Reading state information... Done\n",
            "ffmpeg is already the newest version (7:4.4.2-0ubuntu0.22.04.1).\n",
            "The following additional packages will be installed:\n",
            "  freeglut3 libegl-dev libfontenc1 libgl-dev libgl1-mesa-dev libgles-dev\n",
            "  libgles1 libglu1-mesa libglu1-mesa-dev libglvnd-core-dev libglvnd-dev\n",
            "  libglx-dev libice-dev libopengl-dev libsm-dev libxfont2 libxkbfile1\n",
            "  libxt-dev x11-xkb-utils xfonts-base xfonts-encodings xfonts-utils\n",
            "  xserver-common\n",
            "Suggested packages:\n",
            "  libice-doc libsm-doc libxt-doc\n",
            "The following NEW packages will be installed:\n",
            "  freeglut3 freeglut3-dev libegl-dev libfontenc1 libgl-dev libgl1-mesa-dev\n",
            "  libgles-dev libgles1 libglu1-mesa libglu1-mesa-dev libglvnd-core-dev\n",
            "  libglvnd-dev libglx-dev libice-dev libopengl-dev libsm-dev libxfont2\n",
            "  libxkbfile1 libxt-dev x11-xkb-utils xfonts-base xfonts-encodings\n",
            "  xfonts-utils xserver-common xvfb\n",
            "0 upgraded, 25 newly installed, 0 to remove and 49 not upgraded.\n",
            "Need to get 9,076 kB of archives.\n",
            "After this operation, 18.7 MB of additional disk space will be used.\n",
            "Get:1 http://archive.ubuntu.com/ubuntu jammy/universe amd64 freeglut3 amd64 2.8.1-6 [74.0 kB]\n",
            "Get:2 http://archive.ubuntu.com/ubuntu jammy/main amd64 libglx-dev amd64 1.4.0-1 [14.1 kB]\n",
            "Get:3 http://archive.ubuntu.com/ubuntu jammy/main amd64 libgl-dev amd64 1.4.0-1 [101 kB]\n",
            "Get:4 http://archive.ubuntu.com/ubuntu jammy/main amd64 libglvnd-core-dev amd64 1.4.0-1 [12.7 kB]\n",
            "Get:5 http://archive.ubuntu.com/ubuntu jammy/main amd64 libegl-dev amd64 1.4.0-1 [18.0 kB]\n",
            "Get:6 http://archive.ubuntu.com/ubuntu jammy/main amd64 libgles1 amd64 1.4.0-1 [11.5 kB]\n",
            "Get:7 http://archive.ubuntu.com/ubuntu jammy/main amd64 libgles-dev amd64 1.4.0-1 [49.4 kB]\n",
            "Get:8 http://archive.ubuntu.com/ubuntu jammy/main amd64 libopengl-dev amd64 1.4.0-1 [3,400 B]\n",
            "Get:9 http://archive.ubuntu.com/ubuntu jammy/main amd64 libglvnd-dev amd64 1.4.0-1 [3,162 B]\n",
            "Get:10 http://archive.ubuntu.com/ubuntu jammy-updates/main amd64 libgl1-mesa-dev amd64 23.2.1-1ubuntu3.1~22.04.3 [6,848 B]\n",
            "Get:11 http://archive.ubuntu.com/ubuntu jammy/main amd64 libglu1-mesa amd64 9.0.2-1 [145 kB]\n",
            "Get:12 http://archive.ubuntu.com/ubuntu jammy/main amd64 libglu1-mesa-dev amd64 9.0.2-1 [231 kB]\n",
            "Get:13 http://archive.ubuntu.com/ubuntu jammy/main amd64 libice-dev amd64 2:1.0.10-1build2 [51.4 kB]\n",
            "Get:14 http://archive.ubuntu.com/ubuntu jammy/main amd64 libsm-dev amd64 2:1.2.3-1build2 [18.1 kB]\n",
            "Get:15 http://archive.ubuntu.com/ubuntu jammy/main amd64 libxt-dev amd64 1:1.2.1-1 [396 kB]\n",
            "Get:16 http://archive.ubuntu.com/ubuntu jammy/universe amd64 freeglut3-dev amd64 2.8.1-6 [126 kB]\n",
            "Get:17 http://archive.ubuntu.com/ubuntu jammy/main amd64 libfontenc1 amd64 1:1.1.4-1build3 [14.7 kB]\n",
            "Get:18 http://archive.ubuntu.com/ubuntu jammy/main amd64 libxfont2 amd64 1:2.0.5-1build1 [94.5 kB]\n",
            "Get:19 http://archive.ubuntu.com/ubuntu jammy/main amd64 libxkbfile1 amd64 1:1.1.0-1build3 [71.8 kB]\n",
            "Get:20 http://archive.ubuntu.com/ubuntu jammy/main amd64 x11-xkb-utils amd64 7.7+5build4 [172 kB]\n",
            "Get:21 http://archive.ubuntu.com/ubuntu jammy/main amd64 xfonts-encodings all 1:1.0.5-0ubuntu2 [578 kB]\n",
            "Get:22 http://archive.ubuntu.com/ubuntu jammy/main amd64 xfonts-utils amd64 1:7.7+6build2 [94.6 kB]\n",
            "Get:23 http://archive.ubuntu.com/ubuntu jammy/main amd64 xfonts-base all 1:1.0.5 [5,896 kB]\n",
            "Get:24 http://archive.ubuntu.com/ubuntu jammy-updates/main amd64 xserver-common all 2:21.1.4-2ubuntu1.7~22.04.12 [28.7 kB]\n",
            "Get:25 http://archive.ubuntu.com/ubuntu jammy-updates/universe amd64 xvfb amd64 2:21.1.4-2ubuntu1.7~22.04.12 [864 kB]\n",
            "Fetched 9,076 kB in 0s (21.8 MB/s)\n",
            "debconf: unable to initialize frontend: Dialog\n",
            "debconf: (No usable dialog-like program is installed, so the dialog based frontend cannot be used. at /usr/share/perl5/Debconf/FrontEnd/Dialog.pm line 78, <> line 25.)\n",
            "debconf: falling back to frontend: Readline\n",
            "debconf: unable to initialize frontend: Readline\n",
            "debconf: (This frontend requires a controlling tty.)\n",
            "debconf: falling back to frontend: Teletype\n",
            "dpkg-preconfigure: unable to re-open stdin: \n",
            "Selecting previously unselected package freeglut3:amd64.\n",
            "(Reading database ... 123635 files and directories currently installed.)\n",
            "Preparing to unpack .../00-freeglut3_2.8.1-6_amd64.deb ...\n",
            "Unpacking freeglut3:amd64 (2.8.1-6) ...\n",
            "Selecting previously unselected package libglx-dev:amd64.\n",
            "Preparing to unpack .../01-libglx-dev_1.4.0-1_amd64.deb ...\n",
            "Unpacking libglx-dev:amd64 (1.4.0-1) ...\n",
            "Selecting previously unselected package libgl-dev:amd64.\n",
            "Preparing to unpack .../02-libgl-dev_1.4.0-1_amd64.deb ...\n",
            "Unpacking libgl-dev:amd64 (1.4.0-1) ...\n",
            "Selecting previously unselected package libglvnd-core-dev:amd64.\n",
            "Preparing to unpack .../03-libglvnd-core-dev_1.4.0-1_amd64.deb ...\n",
            "Unpacking libglvnd-core-dev:amd64 (1.4.0-1) ...\n",
            "Selecting previously unselected package libegl-dev:amd64.\n",
            "Preparing to unpack .../04-libegl-dev_1.4.0-1_amd64.deb ...\n",
            "Unpacking libegl-dev:amd64 (1.4.0-1) ...\n",
            "Selecting previously unselected package libgles1:amd64.\n",
            "Preparing to unpack .../05-libgles1_1.4.0-1_amd64.deb ...\n",
            "Unpacking libgles1:amd64 (1.4.0-1) ...\n",
            "Selecting previously unselected package libgles-dev:amd64.\n",
            "Preparing to unpack .../06-libgles-dev_1.4.0-1_amd64.deb ...\n",
            "Unpacking libgles-dev:amd64 (1.4.0-1) ...\n",
            "Selecting previously unselected package libopengl-dev:amd64.\n",
            "Preparing to unpack .../07-libopengl-dev_1.4.0-1_amd64.deb ...\n",
            "Unpacking libopengl-dev:amd64 (1.4.0-1) ...\n",
            "Selecting previously unselected package libglvnd-dev:amd64.\n",
            "Preparing to unpack .../08-libglvnd-dev_1.4.0-1_amd64.deb ...\n",
            "Unpacking libglvnd-dev:amd64 (1.4.0-1) ...\n",
            "Selecting previously unselected package libgl1-mesa-dev:amd64.\n",
            "Preparing to unpack .../09-libgl1-mesa-dev_23.2.1-1ubuntu3.1~22.04.3_amd64.deb ...\n",
            "Unpacking libgl1-mesa-dev:amd64 (23.2.1-1ubuntu3.1~22.04.3) ...\n",
            "Selecting previously unselected package libglu1-mesa:amd64.\n",
            "Preparing to unpack .../10-libglu1-mesa_9.0.2-1_amd64.deb ...\n",
            "Unpacking libglu1-mesa:amd64 (9.0.2-1) ...\n",
            "Selecting previously unselected package libglu1-mesa-dev:amd64.\n",
            "Preparing to unpack .../11-libglu1-mesa-dev_9.0.2-1_amd64.deb ...\n",
            "Unpacking libglu1-mesa-dev:amd64 (9.0.2-1) ...\n",
            "Selecting previously unselected package libice-dev:amd64.\n",
            "Preparing to unpack .../12-libice-dev_2%3a1.0.10-1build2_amd64.deb ...\n",
            "Unpacking libice-dev:amd64 (2:1.0.10-1build2) ...\n",
            "Selecting previously unselected package libsm-dev:amd64.\n",
            "Preparing to unpack .../13-libsm-dev_2%3a1.2.3-1build2_amd64.deb ...\n",
            "Unpacking libsm-dev:amd64 (2:1.2.3-1build2) ...\n",
            "Selecting previously unselected package libxt-dev:amd64.\n",
            "Preparing to unpack .../14-libxt-dev_1%3a1.2.1-1_amd64.deb ...\n",
            "Unpacking libxt-dev:amd64 (1:1.2.1-1) ...\n",
            "Selecting previously unselected package freeglut3-dev:amd64.\n",
            "Preparing to unpack .../15-freeglut3-dev_2.8.1-6_amd64.deb ...\n",
            "Unpacking freeglut3-dev:amd64 (2.8.1-6) ...\n",
            "Selecting previously unselected package libfontenc1:amd64.\n",
            "Preparing to unpack .../16-libfontenc1_1%3a1.1.4-1build3_amd64.deb ...\n",
            "Unpacking libfontenc1:amd64 (1:1.1.4-1build3) ...\n",
            "Selecting previously unselected package libxfont2:amd64.\n",
            "Preparing to unpack .../17-libxfont2_1%3a2.0.5-1build1_amd64.deb ...\n",
            "Unpacking libxfont2:amd64 (1:2.0.5-1build1) ...\n",
            "Selecting previously unselected package libxkbfile1:amd64.\n",
            "Preparing to unpack .../18-libxkbfile1_1%3a1.1.0-1build3_amd64.deb ...\n",
            "Unpacking libxkbfile1:amd64 (1:1.1.0-1build3) ...\n",
            "Selecting previously unselected package x11-xkb-utils.\n",
            "Preparing to unpack .../19-x11-xkb-utils_7.7+5build4_amd64.deb ...\n",
            "Unpacking x11-xkb-utils (7.7+5build4) ...\n",
            "Selecting previously unselected package xfonts-encodings.\n",
            "Preparing to unpack .../20-xfonts-encodings_1%3a1.0.5-0ubuntu2_all.deb ...\n",
            "Unpacking xfonts-encodings (1:1.0.5-0ubuntu2) ...\n",
            "Selecting previously unselected package xfonts-utils.\n",
            "Preparing to unpack .../21-xfonts-utils_1%3a7.7+6build2_amd64.deb ...\n",
            "Unpacking xfonts-utils (1:7.7+6build2) ...\n",
            "Selecting previously unselected package xfonts-base.\n",
            "Preparing to unpack .../22-xfonts-base_1%3a1.0.5_all.deb ...\n",
            "Unpacking xfonts-base (1:1.0.5) ...\n",
            "Selecting previously unselected package xserver-common.\n",
            "Preparing to unpack .../23-xserver-common_2%3a21.1.4-2ubuntu1.7~22.04.12_all.deb ...\n",
            "Unpacking xserver-common (2:21.1.4-2ubuntu1.7~22.04.12) ...\n",
            "Selecting previously unselected package xvfb.\n",
            "Preparing to unpack .../24-xvfb_2%3a21.1.4-2ubuntu1.7~22.04.12_amd64.deb ...\n",
            "Unpacking xvfb (2:21.1.4-2ubuntu1.7~22.04.12) ...\n",
            "Setting up freeglut3:amd64 (2.8.1-6) ...\n",
            "Setting up libglvnd-core-dev:amd64 (1.4.0-1) ...\n",
            "Setting up libice-dev:amd64 (2:1.0.10-1build2) ...\n",
            "Setting up libsm-dev:amd64 (2:1.2.3-1build2) ...\n",
            "Setting up libfontenc1:amd64 (1:1.1.4-1build3) ...\n",
            "Setting up libxt-dev:amd64 (1:1.2.1-1) ...\n",
            "Setting up libgles1:amd64 (1.4.0-1) ...\n",
            "Setting up xfonts-encodings (1:1.0.5-0ubuntu2) ...\n",
            "Setting up libglx-dev:amd64 (1.4.0-1) ...\n",
            "Setting up libglu1-mesa:amd64 (9.0.2-1) ...\n",
            "Setting up libxkbfile1:amd64 (1:1.1.0-1build3) ...\n",
            "Setting up libopengl-dev:amd64 (1.4.0-1) ...\n",
            "Setting up libxfont2:amd64 (1:2.0.5-1build1) ...\n",
            "Setting up libgl-dev:amd64 (1.4.0-1) ...\n",
            "Setting up libegl-dev:amd64 (1.4.0-1) ...\n",
            "Setting up x11-xkb-utils (7.7+5build4) ...\n",
            "Setting up xfonts-utils (1:7.7+6build2) ...\n",
            "Setting up xfonts-base (1:1.0.5) ...\n",
            "Setting up libglu1-mesa-dev:amd64 (9.0.2-1) ...\n",
            "Setting up xserver-common (2:21.1.4-2ubuntu1.7~22.04.12) ...\n",
            "Setting up libgles-dev:amd64 (1.4.0-1) ...\n",
            "Setting up xvfb (2:21.1.4-2ubuntu1.7~22.04.12) ...\n",
            "Setting up libglvnd-dev:amd64 (1.4.0-1) ...\n",
            "Setting up libgl1-mesa-dev:amd64 (23.2.1-1ubuntu3.1~22.04.3) ...\n",
            "Setting up freeglut3-dev:amd64 (2.8.1-6) ...\n",
            "Processing triggers for libc-bin (2.35-0ubuntu3.4) ...\n",
            "/sbin/ldconfig.real: /usr/local/lib/libur_adapter_opencl.so.0 is not a symbolic link\n",
            "\n",
            "/sbin/ldconfig.real: /usr/local/lib/libtbbmalloc.so.2 is not a symbolic link\n",
            "\n",
            "/sbin/ldconfig.real: /usr/local/lib/libur_loader.so.0 is not a symbolic link\n",
            "\n",
            "/sbin/ldconfig.real: /usr/local/lib/libumf.so.0 is not a symbolic link\n",
            "\n",
            "/sbin/ldconfig.real: /usr/local/lib/libtcm.so.1 is not a symbolic link\n",
            "\n",
            "/sbin/ldconfig.real: /usr/local/lib/libtbb.so.12 is not a symbolic link\n",
            "\n",
            "/sbin/ldconfig.real: /usr/local/lib/libtbbbind_2_0.so.3 is not a symbolic link\n",
            "\n",
            "/sbin/ldconfig.real: /usr/local/lib/libtcm_debug.so.1 is not a symbolic link\n",
            "\n",
            "/sbin/ldconfig.real: /usr/local/lib/libur_adapter_level_zero.so.0 is not a symbolic link\n",
            "\n",
            "/sbin/ldconfig.real: /usr/local/lib/libtbbbind_2_5.so.3 is not a symbolic link\n",
            "\n",
            "/sbin/ldconfig.real: /usr/local/lib/libtbbbind.so.3 is not a symbolic link\n",
            "\n",
            "/sbin/ldconfig.real: /usr/local/lib/libhwloc.so.15 is not a symbolic link\n",
            "\n",
            "/sbin/ldconfig.real: /usr/local/lib/libtbbmalloc_proxy.so.2 is not a symbolic link\n",
            "\n",
            "Processing triggers for man-db (2.10.2-1) ...\n",
            "Processing triggers for fontconfig (2.13.1-4.2ubuntu5) ...\n"
          ]
        }
      ]
    },
    {
      "cell_type": "code",
      "source": [
        "import sys\n",
        "sys.path.append('/content/PyGame-Learning-Environment')\n",
        "from ple.games.flappybird import FlappyBird\n",
        "from ple import PLE\n",
        "from gym import spaces\n",
        "import IPython\n",
        "import numpy as np\n",
        "import gym\n",
        "import os\n",
        "import pyvirtualdisplay\n",
        "import base64\n",
        "import warnings\n",
        "import imageio\n",
        "from abc import ABC, abstractmethod\n",
        "warnings.filterwarnings(\"ignore\")\n"
      ],
      "metadata": {
        "id": "gyVRgQEU4_M_"
      },
      "execution_count": 72,
      "outputs": []
    },
    {
      "cell_type": "markdown",
      "source": [
        "## Utility function to display episode"
      ],
      "metadata": {
        "id": "9PsfB8bB6EVL"
      }
    },
    {
      "cell_type": "code",
      "source": [
        "def embed_mp4(filename):\n",
        "  \"\"\"Embeds an mp4 file in the notebook.\"\"\"\n",
        "  video = open(filename,'rb').read()\n",
        "  b64 = base64.b64encode(video)\n",
        "  tag = '''\n",
        "  <video width=\"640\" height=\"480\" controls>\n",
        "    <source src=\"data:video/mp4;base64,{0}\" type=\"video/mp4\">\n",
        "  Your browser does not support the video tag.\n",
        "  </video>'''.format(b64.decode())\n",
        "\n",
        "  return IPython.display.HTML(tag)\n",
        "display = pyvirtualdisplay.Display(visible=0, size=(1400, 900)).start()"
      ],
      "metadata": {
        "id": "h-jaUHEU6Dau"
      },
      "execution_count": 73,
      "outputs": []
    },
    {
      "cell_type": "markdown",
      "source": [
        "## Environment"
      ],
      "metadata": {
        "id": "9mx2jFonhEun"
      }
    },
    {
      "cell_type": "markdown",
      "source": [
        "### Environment Summary\n",
        "\n",
        "This environment simulates the *Flappy Bird* game, where the agent controls the bird’s vertical position to navigate through gaps in pipes. Built on OpenAI’s `gym.Env` class, the environment allows interaction through standard functions like `step`, `reset`, and `render`.\n",
        "\n",
        "**Key Components**\n",
        "\n",
        "- **Observation Space**: The observation space includes 8 integer values, each representing a different aspect of the game state. These include:\n",
        "  - `\"player_y\"`: The bird's vertical position.\n",
        "  - `\"player_vel\"`: The bird's vertical velocity.\n",
        "  - `\"next_pipe_dist_to_player\"`: Horizontal distance to the next pipe.\n",
        "  - Additional features: Positions of the top and bottom of the next two pipes, enabling the agent to anticipate upcoming gaps.\n",
        "\n",
        "- **Action Space**: This is a discrete space with two actions:\n",
        "  - `0`: No flap (bird falls due to gravity).\n",
        "  - `1`: Flap (bird moves upward).\n",
        "- **Using the Environment**\n",
        "\n",
        "  - **Step:**\n",
        "    The `step` function returns four parameters: `obs`, `reward`, `done`, and `info`.\n",
        "\n",
        "    - **`obs`**: The new observation after applying the action.\n",
        "    - **`reward`**: The reward received for the action.\n",
        "    - **`done`**: A boolean indicating whether the episode has ended.\n",
        "    - **`info`**: A dictionary containing additional information. In this environment, the `info` dictionary includes a `\"score\"` entry that indicates how many pipes the bird has passed since the beginning of the episode.\n",
        "  - **Reset**\n",
        "    The `reset` function restores the environment to its initial state and returns the observation of that state.\n",
        "\n",
        "  - **Render**\n",
        "    The `render` function returns an image of the current state as a NumPy array (`np.array`).\n",
        "\n",
        "  See the `Running the environment` section below for an example of how to use it.\n",
        "\n",
        "- **Customizable Parameters**:\n",
        "  - **`pipe_gap`**: This controls the vertical gap between pipes. The default is set to `80`, providing a moderate challenge.\n",
        "  - **`custom_obs`** and **`custome_observation_map`**: Setting `custom_obs=True` instructs the environment to use a custom `observation_map` specified by the user, rather than the default map. When using a custom observation map, the user must also provide a `preprocess` function compatible with the custom observation map to ensure the observations are correctly processed for the agent.\n",
        "\n",
        "  - **`preprocess`** and **`reward_shaping`**: Optional functions that allow the user to customize how observations and rewards are modified. The `preprocess` function transforms the raw observations according to the specified `observation_map`, while `reward_shaping` allows for custom adjustments to the reward structure, helping to align the environment with the agent’s learning goals.\n",
        "\n",
        "  See the `Custom observation and reward shaping example of usage` section below for an example of usage.\n",
        "\n",
        "\n",
        "\n",
        "\n"
      ],
      "metadata": {
        "id": "odWvOUz5r-Y3"
      }
    },
    {
      "cell_type": "code",
      "source": [
        "# to disable the python game window popup\n",
        "os.environ[\"SDL_VIDEODRIVER\"] = \"dummy\"\n",
        "\n",
        "OBSERVATION_MAP = {0: 'player_y',\n",
        "                   1: \"player_vel\",\n",
        "                   2: \"next_pipe_dist_to_player\",\n",
        "                   3: \"next_pipe_top_y\",\n",
        "                   4: \"next_pipe_bottom_y\",\n",
        "                   5: \"next_next_pipe_dist_to_player\",\n",
        "                   6: \"next_next_pipe_top_y\",\n",
        "                   7: \"next_next_pipe_bottom_y\",\n",
        "}\n",
        "\n",
        "class Game(gym.Env):\n",
        "    def __init__(self, display_screen=False,\n",
        "                 force_fps=True,\n",
        "                 custom_obs=False,\n",
        "                 pipe_gap=80,\n",
        "                 custome_observation_map={},\n",
        "                 preprocess=lambda x: x,\n",
        "                 reward_shaping=lambda x, y, z: x):\n",
        "\n",
        "        os.environ[\"SDL_VIDEODRIVER\"] = \"dummy\"\n",
        "        game = FlappyBird(pipe_gap=pipe_gap)  # define and initiate the environment\n",
        "        self.env = PLE(game, fps=30, display_screen=display_screen,\n",
        "                       force_fps=force_fps)\n",
        "        self.env.init()\n",
        "        # list of actions in the environment\n",
        "        self.actions = self.env.getActionSet()\n",
        "        # length of actions\n",
        "        self.action_space = spaces.Discrete(len(self.actions))\n",
        "        self.custom_obs = custom_obs\n",
        "        self._observation_map = custome_observation_map if custom_obs else OBSERVATION_MAP\n",
        "        self.preprocess = preprocess\n",
        "        self.reward_shaping = reward_shaping\n",
        "        self.score = 0\n",
        "\n",
        "    @property\n",
        "    def observation_space(self):\n",
        "        return spaces.Box(low=0, high=512, shape=(len(self._observation_map),), dtype=int)\n",
        "\n",
        "    def _get_rgb(self):\n",
        "        return self.env.getScreenRGB().transpose(1, 0, 2)\n",
        "\n",
        "    @property\n",
        "    def observation_map(self):\n",
        "        return self._observation_map\n",
        "\n",
        "    def step(self, action):\n",
        "        \"\"\"Take the action chosen and update the reward\"\"\"\n",
        "        reward = self.env.act(self.actions[action])\n",
        "        if reward < 0:\n",
        "          reward = -1\n",
        "\n",
        "        if reward > 0:\n",
        "          self.score += 1\n",
        "        state = self.env.getGameState()\n",
        "        terminal = self.env.game_over()\n",
        "        reward = self.reward_shaping(reward, terminal, env)\n",
        "        info = {'score':self.score}\n",
        "        return self.preprocess(np.array(list(state.values())).astype(int)), reward, terminal, info\n",
        "\n",
        "    def getGameState(self):\n",
        "        '''\n",
        "        PLEenv return gamestate as a dictionary. Returns a modified form\n",
        "        of the gamestate only with the required information to define the state\n",
        "        '''\n",
        "        state = self.env.getGameState()\n",
        "        h_dist = state['next_pipe_dist_to_player']\n",
        "        v_dist = state['next_pipe_bottom_y'] - state['player_y']\n",
        "        vel = state['player_vel']\n",
        "\n",
        "        return ' '.join([str(vel), str(h_dist), str(v_dist)])\n",
        "\n",
        "    def reset(self):\n",
        "        \"\"\"Resets the game to start a new game\"\"\"\n",
        "        self.env.reset_game()\n",
        "        state = self.env.getGameState()\n",
        "        self.score = 0\n",
        "        return self.preprocess(np.array(list(state.values())).astype(int))\n",
        "\n",
        "    def render(self, mode='human'):\n",
        "        \"\"\"Render the game\"\"\"\n",
        "        return self._get_rgb()\n",
        "\n",
        "    def seed(self, seed):\n",
        "        rng = np.random.RandomState(seed)\n",
        "        self.env.rng = rng\n",
        "        self.env.game.rng = self.env.rng\n",
        "\n",
        "        self.env.init()"
      ],
      "metadata": {
        "id": "hEXHvbNYyd8L"
      },
      "execution_count": 74,
      "outputs": []
    },
    {
      "cell_type": "code",
      "source": [
        "env = Game(custom_obs=False)"
      ],
      "metadata": {
        "id": "WRIzH8P-_fZz"
      },
      "execution_count": 75,
      "outputs": []
    },
    {
      "cell_type": "markdown",
      "source": [
        "### Observation space"
      ],
      "metadata": {
        "id": "64PvA8g5_PV1"
      }
    },
    {
      "cell_type": "code",
      "source": [
        "print(f\"observation space: {env.observation_space}\")\n",
        "for feaure, des in env.observation_map.items():\n",
        "  print(f\"feaure: {feaure} -> {des}\")"
      ],
      "metadata": {
        "colab": {
          "base_uri": "https://localhost:8080/"
        },
        "id": "bVz0zDuP_mI6",
        "outputId": "abba0322-078c-45b3-a8dd-b0a9297cf5b9"
      },
      "execution_count": 76,
      "outputs": [
        {
          "output_type": "stream",
          "name": "stdout",
          "text": [
            "observation space: Box(0, 512, (8,), int64)\n",
            "feaure: 0 -> player_y\n",
            "feaure: 1 -> player_vel\n",
            "feaure: 2 -> next_pipe_dist_to_player\n",
            "feaure: 3 -> next_pipe_top_y\n",
            "feaure: 4 -> next_pipe_bottom_y\n",
            "feaure: 5 -> next_next_pipe_dist_to_player\n",
            "feaure: 6 -> next_next_pipe_top_y\n",
            "feaure: 7 -> next_next_pipe_bottom_y\n"
          ]
        }
      ]
    },
    {
      "cell_type": "markdown",
      "source": [
        "In this *Flappy Bird* environment, the `Box` type represents a `Discrete` observation space in OpenAI's Gym, providing the agent with a range of values in each dimension of the environment. Here’s what each part means:\n",
        "\n",
        "* **Box**: This type of space is used to define a `Discrete`  range of values for each observation dimension. Here, it represents an 8-dimensional vector.\n",
        "* **(0, 512)**: Each dimension within this space can take values from 0 to 512, which corresponds to the pixel boundaries of the game.\n",
        "* **(8,)**: This shape indicates that there are 8 distinct variables in the observation vector, each capturing a critical feature of the environment.\n",
        "* **int64**: Each value in the vector is an integer of 64-bit precision.\n",
        "\n",
        "In summary, `Box(0, 512, (8,), int64)` represents an 8-dimensional vector space where each element is an integer from 0 to 512. Each dimension corresponds to a specific aspect of the *Flappy Bird* environment:\n",
        "\n",
        "1. **Player Y Position**: The vertical position of the bird, representing its height on the screen.\n",
        "2. **Player Velocity**: The bird’s current velocity, which impacts its movement and helps determine when to flap.\n",
        "3. **Distance to Next Pipe**: The horizontal distance between the bird and the next pipe, crucial for timing flaps.\n",
        "4. **Next Pipe Top Y Position**: The vertical position of the top of the next pipe, helping the bird gauge the gap.\n",
        "5. **Next Pipe Bottom Y Position**: The vertical position of the bottom of the next pipe, providing further data for navigating the gap.\n",
        "6. **Distance to Next-Next Pipe**: The horizontal distance to the pipe after the next one, giving the bird foresight into upcoming obstacles.\n",
        "7. **Next-Next Pipe Top Y Position**: The vertical position of the top of the pipe after the next one, extending the bird's view of upcoming gaps.\n",
        "8. **Next-Next Pipe Bottom Y Position**: The vertical position of the bottom of the pipe after the next one, for additional planning.\n",
        "\n",
        "Together, these dimensions offer the agent a detailed snapshot of the environment, helping it make decisions based on its position, velocity, and the layout of both current and upcoming obstacles.\n"
      ],
      "metadata": {
        "id": "bQsBJauryXVC"
      }
    },
    {
      "cell_type": "markdown",
      "source": [
        "### Action space"
      ],
      "metadata": {
        "id": "TLuIANMX0JRC"
      }
    },
    {
      "cell_type": "code",
      "source": [
        "env.action_space"
      ],
      "metadata": {
        "colab": {
          "base_uri": "https://localhost:8080/"
        },
        "id": "siDgIRASziZD",
        "outputId": "4280f3d2-e388-4b83-b32d-65917ff216b7"
      },
      "execution_count": 68,
      "outputs": [
        {
          "output_type": "execute_result",
          "data": {
            "text/plain": [
              "Discrete(2)"
            ]
          },
          "metadata": {},
          "execution_count": 68
        }
      ]
    },
    {
      "cell_type": "markdown",
      "source": [
        "In this *Flappy Bird* environment, the `Discrete(2)` action space defines the possible actions the agent can take, using a finite set of discrete values:\n",
        "\n",
        "* **Discrete**: This type of space is used when there are a limited number of distinct actions.\n",
        "* **2**: The number of actions available, represented by values 0 and 1.\n",
        "\n",
        "For *Flappy Bird*, these actions correspond to:\n",
        "  * **0**: Do nothing (the bird continues to fall due to gravity).\n",
        "  * **1**: Flap (the bird moves upward briefly).\n",
        "\n",
        "In summary, `Discrete(2)` defines an action space with two possible actions: allowing the bird to either continue falling or flap to move upward, which is essential for navigating the gaps between pipes.\n"
      ],
      "metadata": {
        "id": "tdPOZw630TUx"
      }
    },
    {
      "cell_type": "markdown",
      "source": [
        "### Rewards\n",
        "\n",
        "*Reward Structure:*\n",
        "\n",
        "\n",
        "\n",
        "*   **Positive Reward**: For each pipe successfully passed, the agent receives a reward of **+1**.\n",
        "*   **Negative Reward**: Upon reaching any terminal state, the agent receives a penalty of **-1**.\n",
        "*   **Zero Reward**: Any other senario the reward is **0**\n",
        "\n",
        "\n"
      ],
      "metadata": {
        "id": "oA95yg2--eXX"
      }
    },
    {
      "cell_type": "markdown",
      "source": [
        "### Running the environmen"
      ],
      "metadata": {
        "id": "sTbzOYOG33sE"
      }
    },
    {
      "cell_type": "code",
      "source": [
        "env = Game()\n",
        "env.seed(42)\n",
        "obs = env.reset()\n",
        "video_filename = '/content/vid.mp4'\n",
        "max_steps = 100\n",
        "# Evaluation\n",
        "with imageio.get_writer(video_filename, fps=24) as video:\n",
        "  obs = env.reset()\n",
        "  done = False\n",
        "  total_reward = 0\n",
        "  # print('y', 'vel', 'a', 'dis', sep='\\t')\n",
        "  for step in range(max_steps):\n",
        "      action = env.action_space.sample()\n",
        "      obs, reward, done, info = env.step(action)\n",
        "      next_obs = obs  # Get agent's position directly from the environment\n",
        "      # print(obs[0], obs[1], action, obs[2], sep='\\t')\n",
        "      total_reward += reward\n",
        "      re = env.render()\n",
        "      video.append_data(re)\n",
        "      if done:\n",
        "        score = info['score']\n",
        "        print(\"Sum of rewards =\", total_reward, \", Number of steps=\", step, \"score: \", score)\n",
        "        break\n",
        "embed_mp4(video_filename)"
      ],
      "metadata": {
        "colab": {
          "base_uri": "https://localhost:8080/",
          "height": 519
        },
        "id": "OKOTC3dh38AP",
        "outputId": "2c8cbc41-e821-4597-d13c-a8255b4f1891"
      },
      "execution_count": 77,
      "outputs": [
        {
          "output_type": "stream",
          "name": "stdout",
          "text": [
            "Sum of rewards = -1.0 , Number of steps= 49 score:  0\n"
          ]
        },
        {
          "output_type": "execute_result",
          "data": {
            "text/plain": [
              "<IPython.core.display.HTML object>"
            ],
            "text/html": [
              "\n",
              "  <video width=\"640\" height=\"480\" controls>\n",
              "    <source src=\"data:video/mp4;base64,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\" type=\"video/mp4\">\n",
              "  Your browser does not support the video tag.\n",
              "  </video>"
            ]
          },
          "metadata": {},
          "execution_count": 77
        }
      ]
    },
    {
      "cell_type": "markdown",
      "source": [
        "### Custom observation and reward shaping example of usage"
      ],
      "metadata": {
        "id": "FA6SrS10_pGo"
      }
    },
    {
      "cell_type": "code",
      "source": [
        "custom_obs_mapping = {0: \"average\",\n",
        "                      1: 'sum'}\n",
        "\n",
        "# meaningless preprocess method that average and sums all of the original features\n",
        "preprocess = lambda x: np.array([np.mean(x), np.sum(x)])\n",
        "\n",
        "# meaningless reward shaping method that added 1 to each original reward\n",
        "reward_shaping = lambda x, y, z: x+1\n",
        "\n",
        "env = Game(custom_obs=True,\n",
        "           custome_observation_map=custom_obs_mapping,\n",
        "           preprocess=preprocess,\n",
        "           reward_shaping=reward_shaping)\n",
        "env.seed(42)\n",
        "obs = env.reset()\n",
        "\n",
        "print(f\"observation space: {env.observation_space}\")\n",
        "for feaure, des in env.observation_map.items():\n",
        "  print(f\"feaure: {feaure} -> {des}\")\n",
        "\n",
        "print(f\"reset: {obs}\")\n",
        "print(\"#\"*100, end=\"\\n\\n\")\n",
        "video_filename = '/content/vid.mp4'\n",
        "max_steps = 100\n",
        "# Evaluation\n",
        "with imageio.get_writer(video_filename, fps=24) as video:\n",
        "  obs = env.reset()\n",
        "  done = False\n",
        "  total_reward = 0\n",
        "  for step in range(max_steps):\n",
        "      action = env.action_space.sample()\n",
        "      obs, reward, done, info = env.step(action)\n",
        "      next_obs = obs  # Get agent's position directly from the environment\n",
        "      print(obs)\n",
        "      total_reward += reward\n",
        "      re = env.render()\n",
        "      video.append_data(re)\n",
        "      if done:\n",
        "        score = info['score']\n",
        "        print(\"Sum of rewards =\", total_reward, \", Number of steps=\", step, \"score: \", score)\n",
        "        break\n",
        "embed_mp4(video_filename)"
      ],
      "metadata": {
        "colab": {
          "base_uri": "https://localhost:8080/",
          "height": 1000
        },
        "id": "3ejzOhgJAAcV",
        "outputId": "67ed2f62-4925-4930-e651-2e2958d257da"
      },
      "execution_count": 168,
      "outputs": [
        {
          "output_type": "stream",
          "name": "stdout",
          "text": [
            "observation space: Box(0, 512, (2,), int64)\n",
            "feaure: 0 -> average\n",
            "feaure: 1 -> sum\n",
            "reset: [ 197.5 1580. ]\n",
            "####################################################################################################\n",
            "\n",
            "[ 167.5 1340. ]\n",
            "[ 167.5 1340. ]\n",
            "[ 164.5 1316. ]\n",
            "[ 162.5 1300. ]\n",
            "[ 160.5 1284. ]\n",
            "[ 158.5 1268. ]\n",
            "[ 156.5 1252. ]\n",
            "[ 154.5 1236. ]\n",
            "[ 152.75 1222.  ]\n",
            "[ 150.625 1205.   ]\n",
            "[ 150.625 1205.   ]\n",
            "[ 147.625 1181.   ]\n",
            "[ 147.625 1181.   ]\n",
            "[ 146.875 1175.   ]\n",
            "[ 146.25 1170.  ]\n",
            "[ 143. 1144.]\n",
            "[ 141. 1128.]\n",
            "[ 139.25 1114.  ]\n",
            "[ 137.625 1101.   ]\n",
            "[ 135.375 1083.   ]\n",
            "[ 133.375 1067.   ]\n",
            "[ 131.375 1051.   ]\n",
            "[ 129.375 1035.   ]\n",
            "[ 127.625 1021.   ]\n",
            "[ 125.5 1004. ]\n",
            "[ 125.5 1004. ]\n",
            "[124.75 998.  ]\n",
            "[124.125 993.   ]\n",
            "[120.875 967.   ]\n",
            "[118.875 951.   ]\n",
            "[116.875 935.   ]\n",
            "[114.875 919.   ]\n",
            "[113.125 905.   ]\n",
            "[111.5 892. ]\n",
            "[110. 880.]\n",
            "[107.625 861.   ]\n",
            "[105.625 845.   ]\n",
            "[103.875 831.   ]\n",
            "[102.25 818.  ]\n",
            "[100. 800.]\n",
            "[ 98. 784.]\n",
            "[ 96.25 770.  ]\n",
            "[ 94.125 753.   ]\n",
            "[ 94.125 753.   ]\n",
            "Sum of rewards = 43.0 , Number of steps= 43 score:  0\n"
          ]
        },
        {
          "output_type": "execute_result",
          "data": {
            "text/plain": [
              "<IPython.core.display.HTML object>"
            ],
            "text/html": [
              "\n",
              "  <video width=\"640\" height=\"480\" controls>\n",
              "    <source src=\"data:video/mp4;base64,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\" type=\"video/mp4\">\n",
              "  Your browser does not support the video tag.\n",
              "  </video>"
            ]
          },
          "metadata": {},
          "execution_count": 168
        }
      ]
    },
    {
      "cell_type": "markdown",
      "source": [
        "# Your Work begins here"
      ],
      "metadata": {
        "id": "BSzUW-ufhISi"
      }
    },
    {
      "cell_type": "markdown",
      "source": [
        "## Preprocess"
      ],
      "metadata": {
        "id": "NV8nQ-G379Ek"
      }
    },
    {
      "cell_type": "markdown",
      "source": [
        "**Define the `preprocess` Method**\n",
        "\n",
        "- Create a function called `preprocess` that takes an observation as input.\n",
        "- The purpose of this function is to transform the raw observation into a format that optimizes learning for the agent. Use your creativity to design an effective preprocessing strategy for this task.\n",
        "\n",
        "**Suggested Approaches:**\n",
        "- **Normalization or Scaling**: Adjust observation values to a common range, such as $0$ to $1$ or $0$ to $N$, to improve stability in the learning process.\n",
        "- **Feature Extraction**: Emphasize key features in the observation that are crucial for achieving the environment's goals.\n",
        "- **Dimensionality Reduction**: Simplify the observation by removing or combining less significant parts to streamline learning and reduce complexity.\n",
        "\n",
        "**Compression and Q-Table Size**\n",
        "- Reducing the complexity of the observation, through techniques like scaling, normalization, or removing redundant features, effectively compresses the data. This compression simplifies the agent’s perception of the environment, helping it focus on the most relevant information.\n",
        "- In discrete environments, reducing observation dimensionality directly impacts the size of the Q-table. By compressing the observation space, you decrease the number of possible states, which makes the Q-table smaller and easier to manage. This reduction in Q-table size not only conserves memory but can also enhance learning efficiency.\n",
        "  \n",
        "Use these ideas to explain how your preprocessing strategy compresses the observation space and helps the agent handle the environment more effectively.\n",
        "\n",
        "**Rationalize Your Preprocessing Choices**\n",
        "\n",
        "- Include a brief explanation of your preprocessing choices. Explain why you believe this approach will improve the agent's learning efficiency and performance.\n",
        "- Discuss how these adjustments make the observations more interpretable or manageable for the learning algorithm.\n",
        "\n",
        "**Important**\n",
        "- The maximum value on the **Vertical** axis is **512**.\n",
        "- The maximum value on the **Horizontal** axis is **288**.\n"
      ],
      "metadata": {
        "id": "34GXgJztd6QZ"
      }
    },
    {
      "cell_type": "code",
      "source": [
        "custome_observation_map = {0: \"norm_dis_next_pipe\", 1: \"norm_dis_gap_top\", 2: \"norm_dis_gap_bottom\" } # assing each action with a description of the feature meaning\n",
        "def preprocess(obs):\n",
        "  \"\"\"\n",
        "  insert your preprocessing code here\n",
        "  \"\"\"\n",
        "  # vel = obs[1]\n",
        "  norm_dis_gap_top = max((obs[3] - obs[0]), 0)\n",
        "  norm_dis_gap_bottom = max((obs[0] - obs[4]), 0)\n",
        "  norm_dis_next_pipe = obs[2]\n",
        "  return np.array([norm_dis_next_pipe, norm_dis_gap_top, norm_dis_gap_bottom])"
      ],
      "metadata": {
        "id": "LPHpNwt_8AAx"
      },
      "execution_count": 171,
      "outputs": []
    },
    {
      "cell_type": "code",
      "source": [
        "env = Game(custom_obs=True,\n",
        "           custome_observation_map=custome_observation_map,\n",
        "           preprocess=preprocess,\n",
        "           reward_shaping=reward_shaping)\n",
        "env.seed(42)\n",
        "obs = env.reset()\n",
        "\n",
        "print(f\"observation space: {env.observation_space}\")\n",
        "for feaure, des in env.observation_map.items():\n",
        "  print(f\"feaure: {feaure} -> {des}\")\n",
        "\n",
        "print(f\"reset: {obs}\")\n",
        "print(\"#\"*100, end=\"\\n\\n\")\n",
        "video_filename = '/content/vid.mp4'\n",
        "max_steps = 100\n",
        "# Evaluation\n",
        "with imageio.get_writer(video_filename, fps=24) as video:\n",
        "  obs = env.reset()\n",
        "  done = False\n",
        "  total_reward = 0\n",
        "  for step in range(max_steps):\n",
        "      action = env.action_space.sample()\n",
        "      obs, reward, done, info = env.step(action)\n",
        "      next_obs = obs  # Get agent's position directly from the environment\n",
        "      print(obs)\n",
        "      total_reward += reward\n",
        "      re = env.render()\n",
        "      video.append_data(re)\n",
        "      if done:\n",
        "        score = info['score']\n",
        "        print(\"Sum of rewards =\", total_reward, \", Number of steps=\", step, \"score: \", score)\n",
        "        break\n",
        "embed_mp4(video_filename)"
      ],
      "metadata": {
        "collapsed": true,
        "id": "HrLzYCoWjqI-",
        "outputId": "1244934a-100d-4fbe-eaf7-e2efaaf13e7c",
        "colab": {
          "base_uri": "https://localhost:8080/",
          "height": 1000
        }
      },
      "execution_count": 172,
      "outputs": [
        {
          "output_type": "stream",
          "name": "stdout",
          "text": [
            "observation space: Box(0, 512, (3,), int64)\n",
            "feaure: 0 -> norm_dis_next_pipe\n",
            "feaure: 1 -> norm_dis_gap_top\n",
            "feaure: 2 -> norm_dis_gap_bottom\n",
            "reset: [309   0  82]\n",
            "####################################################################################################\n",
            "\n",
            "[305   0  96]\n",
            "[301   0  96]\n",
            "[297   0  97]\n",
            "[293   0  89]\n",
            "[289   0  89]\n",
            "[285   0  81]\n",
            "[281   0  73]\n",
            "[277   0  66]\n",
            "[273   0  58]\n",
            "[269   0  58]\n",
            "[265   0  50]\n",
            "[261   0  50]\n",
            "[257   0  42]\n",
            "[253   0  42]\n",
            "[249   0  34]\n",
            "[245   0  34]\n",
            "[241   0  26]\n",
            "[237   0  18]\n",
            "[233   0  10]\n",
            "[229   0   2]\n",
            "[225   0   0]\n",
            "[221   0   0]\n",
            "[217   0   0]\n",
            "[213   0   0]\n",
            "[209   0   0]\n",
            "[205   0   0]\n",
            "[201   0   0]\n",
            "[197   0   0]\n",
            "[193   0   0]\n",
            "[189   0   0]\n",
            "[185   0   0]\n",
            "[181   0   0]\n",
            "[177   0   0]\n",
            "[173   0   0]\n",
            "[169   0   0]\n",
            "[165   0   0]\n",
            "[161   0   0]\n",
            "[157   3   0]\n",
            "[153  10   0]\n",
            "[149  16   0]\n",
            "[145  24   0]\n",
            "[141  32   0]\n",
            "[137  39   0]\n",
            "[133  47   0]\n",
            "[129  47   0]\n",
            "[125  55   0]\n",
            "[121  63   0]\n",
            "[117  70   0]\n",
            "[113  76   0]\n",
            "[109  81   0]\n",
            "Sum of rewards = 49.0 , Number of steps= 49 score:  0\n"
          ]
        },
        {
          "output_type": "execute_result",
          "data": {
            "text/plain": [
              "<IPython.core.display.HTML object>"
            ],
            "text/html": [
              "\n",
              "  <video width=\"640\" height=\"480\" controls>\n",
              "    <source src=\"data:video/mp4;base64,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\" type=\"video/mp4\">\n",
              "  Your browser does not support the video tag.\n",
              "  </video>"
            ]
          },
          "metadata": {},
          "execution_count": 172
        }
      ]
    },
    {
      "cell_type": "markdown",
      "source": [
        "## Reward shaping"
      ],
      "metadata": {
        "id": "562OuNkIeumH"
      }
    },
    {
      "cell_type": "markdown",
      "source": [
        "### Define a Reward Shaping Strategy\n",
        "\n",
        "**Reward shaping** means adjusting the rewards given to the agent to encourage desired actions and help it learn faster. In *Flappy Bird*, the goal is to create rewards that guide the bird to survive longer and avoid hitting pipes.\n",
        "\n",
        "**Steps for Reward Shaping:**\n",
        "\n",
        "1. **Identify Desired Behaviors**:\n",
        "   - Decide which behaviors you want to encourage. For example, flapping at the right time to pass through pipes or avoiding unnecessary flaps could be rewarded.\n",
        "\n",
        "2. **Design Rewards**:\n",
        "   - Use rewards that motivate the bird to take helpful actions without distracting from the main goal (staying alive). Here are some ideas:\n",
        "     - **Survival Reward**: Give a small reward for each step the bird survives.\n",
        "     - **Penalty for Hitting Pipes**: Apply a negative reward (penalty) when the bird crashes into a pipe.\n",
        "    - **Passing Through Pipes**: Provide a positive reward each time the bird successfully passes through a pipe.\n",
        "\n",
        "\n",
        "3. **Explain Your Reward Choices**:\n",
        "   - Add an explanation for your reward design. Why did you decide to reward certain actions or apply penalties?\n",
        "   - Describe how your rewards help the bird focus on staying alive and navigating pipes effectively.\n",
        "   - Provide an example demonstrating the impact of your reward shaping logic, ideally by comparing performance graphs with and without reward shaping.\n",
        "\n",
        "4. **Avoid Over-Shaping**:\n",
        "   - Avoid giving too many rewards for minor actions, as it could lead the bird to focus on short-term rewards instead of the main goal. Aim for a balance where the bird gets enough guidance without relying on intermediate rewards.\n",
        "\n",
        "**Q-Learning and Value Convergence**:\n",
        "   - Remember, shaping rewards impacts **Q-values** (the expected value of actions). When rewards are well-designed, the bird’s Q-values will better reflect valuable actions, helping it make smarter choices over time.\n",
        "\n",
        "Use these tips to develop a reward strategy that encourages the bird to navigate through pipes effectively while improving its learning.\n"
      ],
      "metadata": {
        "id": "zOnXqApDe7tg"
      }
    },
    {
      "cell_type": "code",
      "source": [
        "def reward_shaping(reward, terminal, check):\n",
        "  \"\"\"\n",
        "  insert your preprocessing code here\n",
        "  \"\"\"\n",
        "  obs = check.preprocess(list(check.env.getGameState().values()))\n",
        "  if not terminal:\n",
        "    if obs[1] != 0:\n",
        "      reward -= np.abs(obs[1] + obs[2]) * (1 - obs[0] / 288)\n",
        "    return reward\n",
        "  return -10"
      ],
      "metadata": {
        "id": "bbGZVsX3f0m5"
      },
      "execution_count": 166,
      "outputs": []
    },
    {
      "cell_type": "markdown",
      "source": [
        "## Implementation of Learning Agents"
      ],
      "metadata": {
        "id": "uRLgerJnhmXA"
      }
    },
    {
      "cell_type": "markdown",
      "source": [
        "Abstract Class for Implementing an On-Policy Agent\n",
        "\n",
        "Below is an abstract class to serve as a foundation for implementing an on-policy agent. Derive your agent from this class and implement the specific logic for your agent. Note that different agents may require additional parameters or functions to support their unique features and learning mechanisms.\n"
      ],
      "metadata": {
        "id": "Yev0iBqsjZVs"
      }
    },
    {
      "cell_type": "code",
      "source": [
        "from abc import ABC, abstractmethod\n",
        "\n",
        "class OnPolicyAgent(ABC):\n",
        "    def __init__(self, action_space, observation_space, gamma, learning_rate):\n",
        "        \"\"\"\n",
        "        Initializes the on-policy RL agent.\n",
        "        You can add more parameters\n",
        "        Parameters:\n",
        "        - action_space: The action space of the environment\n",
        "        - observation_space: The observation space of the environment\n",
        "        - gamma: Discount factor for future rewards\n",
        "        - learning_rate: Learning rate for policy updates\n",
        "        \"\"\"\n",
        "        self.action_space = action_space\n",
        "        self.observation_space = observation_space\n",
        "        self.gamma = gamma\n",
        "        self.learning_rate = learning_rate\n",
        "        self.policy = None  # Placeholder for policy (to be implemented in subclasses)\n",
        "\n",
        "    @abstractmethod\n",
        "    def select_action(self, observation, deterministic=False):\n",
        "        \"\"\"\n",
        "        Select an action based on the current policy.\n",
        "\n",
        "        Parameters:\n",
        "        - observation: Current state observation from the environment\n",
        "        -deterministic: Flag indicating whether to use a deterministic policy (default is False)\n",
        "        Returns:\n",
        "        - action: Chosen action based on the policy\n",
        "        \"\"\"\n",
        "        pass\n",
        "\n",
        "    @abstractmethod\n",
        "    def update_policy(self, transition):\n",
        "        \"\"\"\n",
        "        Update the policy based on the current transition.\n",
        "\n",
        "        Parameters:\n",
        "        - transition: Data collected from interactions with the environment (tuple of zero or more values such as acion, reward etc...)\n",
        "        \"\"\"\n",
        "        pass\n",
        "\n",
        "    @abstractmethod\n",
        "    def train(self, env, num_episodes, log_every):\n",
        "        \"\"\"\n",
        "        Train the agent over a specified number of episodes.\n",
        "\n",
        "        Parameters:\n",
        "        - env: The environment to train in\n",
        "        - num_episodes: Number of training episodes\n",
        "        \"\"\"\n",
        "        pass\n",
        "\n",
        "    @abstractmethod\n",
        "    def save_policy(self, file_path):\n",
        "        \"\"\"\n",
        "        Save the current policy to a file.\n",
        "\n",
        "        Parameters:\n",
        "        - file_path: Path to the file where the policy should be saved\n",
        "        \"\"\"\n",
        "        pass\n",
        "\n",
        "    @abstractmethod\n",
        "    def load_policy(self, file_path):\n",
        "        \"\"\"\n",
        "        Load a policy from a file.\n",
        "\n",
        "        Parameters:\n",
        "        - file_path: Path to the file from which the policy should be loaded\n",
        "        \"\"\"\n",
        "        pass\n",
        "\n",
        "    @abstractmethod\n",
        "    def run_policy(self, env):\n",
        "        \"\"\"\n",
        "        Run the loaded policy in the environment for one episode.\n",
        "\n",
        "        Parameters:\n",
        "        - env: The environment in which to run the policy\n",
        "\n",
        "        Returns:\n",
        "        - total_reward: Total reward accumulated in the episode\n",
        "        \"\"\"\n",
        "        pass\n"
      ],
      "metadata": {
        "id": "bq3JtejTh57r"
      },
      "execution_count": 82,
      "outputs": []
    },
    {
      "cell_type": "code",
      "source": [
        "import itertools\n",
        "class Sarsa(OnPolicyAgent):\n",
        "  def __init__(self, action_space, observation_space, gamma, learning_rate, epsilon):\n",
        "     super().__init__(action_space, observation_space, gamma, learning_rate)\n",
        "     self.epsilon = epsilon\n",
        "     self.policy = {k: [0] * action_space.n for k in itertools.product(range(512), repeat=3)}\n",
        "\n",
        "  def select_action(self, observation, deterministic=False):\n",
        "    # print(observation)\n",
        "    # print(self.policy[tuple(observation)])\n",
        "    max_action = np.argmax(self.policy[tuple(observation)])\n",
        "    if deterministic:\n",
        "      return max_action\n",
        "    else:\n",
        "      r_num = np.random.random()\n",
        "      if r_num > self.epsilon:\n",
        "        return max_action\n",
        "      else:\n",
        "        return np.random.randint(0, self.action_space.n)\n",
        "\n",
        "  def update_policy(self, transition):\n",
        "    observation, action, reward, next_observation = transition\n",
        "    curr_Q_value = self.policy[tuple(observation)][action]\n",
        "    next_Q_value = self.policy[tuple(next_observation)][self.select_action(next_observation)]\n",
        "    self.policy[tuple(observation)][action] = curr_Q_value + self.learning_rate * ( reward + self.gamma * next_Q_value - curr_Q_value)\n",
        "\n",
        "  def train(self, env, num_episodes, log_every):\n",
        "    for e in range(num_episodes):\n",
        "      observation = env.reset()\n",
        "      end = False\n",
        "      score = 0\n",
        "      total_reward = 0\n",
        "      if (e + 1) % log_every == 0:\n",
        "        video_filename = f'/content/vid_{e+1}.mp4'\n",
        "        video = imageio.get_writer(video_filename, fps=24)\n",
        "        # with imageio.get_writer(video_filename, fps=24) as video:\n",
        "        while (not end) and score <= 15:\n",
        "          action = self.select_action(observation)\n",
        "          next_observation, reward, end, info = env.step(self.select_action(observation))\n",
        "          score = info['score']\n",
        "          total_reward += reward\n",
        "          self.update_policy((observation, action, reward, next_observation))\n",
        "          observation = next_observation\n",
        "          re = env.render()\n",
        "          video.append_data(re)\n",
        "        print(\"\\nScore:\", score, \"\\nEpisode reward:\", total_reward)\n",
        "        # f = open(video_filename, 'wb')\n",
        "        # f.write(video)\n",
        "        # f.close()\n",
        "        video.close()\n",
        "        embed_mp4(video_filename)\n",
        "      else:\n",
        "        while end and score <= 15:\n",
        "          action = self.select_action(observation)\n",
        "          next_observation, reward, end, info = env.step(self.select_action(observation))\n",
        "          score = info['score']\n",
        "          total_reward += reward\n",
        "          self.update_policy((observation, action, reward, next_observation))\n",
        "          observation = next_observation\n",
        "\n",
        "  def save_policy(self, file_path):\n",
        "    np.save(file_path, self.policy)\n",
        "\n",
        "  def load_policy(self, file_path):\n",
        "    self.policy = np.load(file_path,allow_pickle='TRUE').item()\n",
        "\n",
        "  def run_policy(self, env):\n",
        "    observation = env.reset()\n",
        "    end = False\n",
        "    total_reward = 0\n",
        "    while end and score < 15:\n",
        "      action = self.select_action(observation)\n",
        "      observation, reward, end, info = env.step(self.select_action(observation))\n",
        "      total_reward += reward\n",
        "      score = info['score']\n",
        "    return score\n",
        "\n",
        "\n",
        "\n",
        "\n"
      ],
      "metadata": {
        "id": "3jKmgHqowcaN"
      },
      "execution_count": 174,
      "outputs": []
    },
    {
      "cell_type": "markdown",
      "source": [
        "## Training"
      ],
      "metadata": {
        "id": "L4nG1NT6kLzQ"
      }
    },
    {
      "cell_type": "markdown",
      "source": [
        "#### Experimentation Instructions\n",
        "\n",
        "In this section, you will conduct a series of experiments to solve the environment using your on-policy agent. Follow these guidelines for a clear and comprehensive presentation of your work:\n",
        "\n",
        "1. **Design and Run Experiments**:\n",
        "   - Perform at least **5 distinct experiments** with your agent, including:\n",
        "     - **2 unsuccessful experiments** where the agent fails to learn the environment (reaching a score below the target).\n",
        "     - **1 successful experiment** where the agent achieves a score of **10** or higher. (Remember the score is define by the amount of pipes the agent has passed)\n",
        "\n",
        "   - *Note*: In practice, you are expected to try many configurations to observe various outcomes, even beyond these 3 experiments.\n",
        "\n",
        "2. **Provide Detailed Summaries**:\n",
        "   - For each experiment, include:\n",
        "     - **Graphs** that illustrate the training process, such as reward progression, steps, score, and  any other relevant metrics (there is many more metrics that we can learn from).\n",
        "     - **Explanations of Hyperparameters**: Clearly describe the configuration of hyperparameters chosen for each experiment, and the reasoning behind these choices.\n",
        "     - **Preprocessing and Reward Shaping**: Explain any data preprocessing or reward shaping techniques applied, along with the motivation for these techniques.\n",
        "\n",
        "3. **Analyze and Reflect**:\n",
        "   - **Result Analysis**: Analyze each experiment's outcome, focusing on why the agent may have succeeded or failed based on your configurations.\n",
        "   - **Insights and Deductions**: Draw insights from each experiment, noting what worked and what didn’t. Use these insights to refine your understanding of the environment and agent performance.\n",
        "\n",
        "4. **Final Report**:\n",
        "   - **Synthesize Findings**: Compile all observations, insights, and analysis from your experiments into a final report. This report should showcase your learnings and demonstrate a deep understanding of the experimentation process.\n",
        "   - **Emphasis on Analysis**: The analysis of your results and the conclusions drawn are the most critical aspects of this exercise. Dedicate ample attention to this section, as it will reflect your ability to interpret and understand the agent’s learning process.\n",
        "\n",
        "**Remember**: The goal of this exercise is to experiment, learn, and iterate. Document your process thoroughly, as this will form the foundation of your report.\n"
      ],
      "metadata": {
        "id": "c7SCgp8wkkQ5"
      }
    },
    {
      "cell_type": "code",
      "source": [
        "env = Game(custom_obs=True, preprocess=preprocess, reward_shaping=reward_shaping, custome_observation_map=custome_observation_map)\n",
        "\"\"\"\n",
        "Insert you experiment code here\n",
        "\"\"\"\n",
        "# env.observation_space.shape\n",
        "training = Sarsa(env.action_space, env.observation_space, 0.9, 0.1, 0.1)\n",
        "training.train(env, 1000, 100)"
      ],
      "metadata": {
        "id": "PHfYUscjkThj"
      },
      "execution_count": null,
      "outputs": []
    },
    {
      "cell_type": "code",
      "source": [
        "! rm vid*"
      ],
      "metadata": {
        "id": "Y3-K5EO4zoZ3"
      },
      "execution_count": 165,
      "outputs": []
    },
    {
      "cell_type": "markdown",
      "source": [
        "## Validation"
      ],
      "metadata": {
        "id": "Vk9cklTikbu_"
      }
    },
    {
      "cell_type": "markdown",
      "source": [
        "#### Validation Section\n",
        "\n",
        "In this section, you will validate your agent’s performance using the best-performing configuration identified in the experimentation phase. This validation step should be less exhaustive than the experimentation section but should provide sufficient evidence of your agent's consistency and stability.\n",
        "\n",
        "1. **Run Validation Trials**:\n",
        "   - Using the chosen configuration, run the agent in the environment for **multiple trials** (e.g., 5-10 episodes) to test its reliability.\n",
        "   - Observe the agent's performance across these trials to confirm whether it consistently achieves or exceeds the target score of 10.\n",
        "\n",
        "2. **Provide Key Summaries**:\n",
        "   - **Performance Metrics**: Summarize the agent’s performance with key metrics such as average score, highest score, and variance across trials.\n",
        "   - **Graphs** (Optional): Include basic graphs showing score progression or any other relevant metric, if they provide additional insight into the agent's stability.\n",
        "\n",
        "3. **Brief Analysis**:\n",
        "   - Reflect on the agent's performance in validation. Note any patterns or inconsistencies and provide a short explanation of how these results align (or differ) from your expectations based on the experimentation phase.\n",
        "\n",
        "*Note*: This validation section should confirm and strengthen the results of your experimentation, focusing on reliability and consistency rather than extensive analysis.\n",
        "\n",
        "*Note*: Store the agent's policy to files since you asked to provide aditional notbook that loads the agent policy\n"
      ],
      "metadata": {
        "id": "-4Z_jvJErVsQ"
      }
    },
    {
      "cell_type": "code",
      "source": [
        "\"\"\"\n",
        "Insert you validation code here\n",
        "\"\"\""
      ],
      "metadata": {
        "id": "65TXpKkgkeic",
        "colab": {
          "base_uri": "https://localhost:8080/"
        },
        "outputId": "31d46a28-f289-4531-e738-e0aad79e90eb"
      },
      "execution_count": null,
      "outputs": [
        {
          "output_type": "execute_result",
          "data": {
            "text/plain": [
              "'\\nInsert you validation code here\\n'"
            ],
            "application/vnd.google.colaboratory.intrinsic+json": {
              "type": "string"
            }
          },
          "metadata": {},
          "execution_count": 50
        }
      ]
    }
  ]
}